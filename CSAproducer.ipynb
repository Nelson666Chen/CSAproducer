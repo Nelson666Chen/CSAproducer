{
 "cells": [
  {
   "cell_type": "code",
   "execution_count": null,
   "metadata": {},
   "outputs": [],
   "source": [
    "# %load D:\\Nelson\\0000.done\\03.program\\python\\PythonApplication1\\PythonApplication1.py\n",
    "from bs4 import BeautifulSoup\n",
    "import requests\n",
    "\n",
    "import json\n",
    "\n",
    "import pyperclip\n",
    "\n",
    "data = {\"p\":\"-FU\",\"P\":\"+FU\",\"l\":\"-KY\",\"L\":\"+KY\",\"n\":\"-KE\",\"N\":\"+KE\",\"s\":\"-GI\",\"S\":\"+GI\",\"g\":\"-KI\",\"G\":\"+KI\",\"k\":\"-OU\",\"K\":\"+OU\",\"r\":\"-KA\",\"R\":\"+KA\",\"b\":\"-HI\",\"B\":\"+HI\"}\n",
    "\n",
    "#get kifu url\n",
    "url = input('Enter kifu URL:')\n",
    "#get url source\n",
    "link = requests.get(url)\n",
    "soup = BeautifulSoup(link.text, \"html.parser\")\n",
    "info = soup.select_one('div#wrapper div')['data-react-props']\n",
    "prop = json.loads(info)['gameHash']\n",
    "\n",
    "#kif begins\n",
    "text = \"'produce by CSA maker\"\n",
    "text += \"N+\" + prop['sente'] + \"\\n\"\n",
    "text += \"N-\" + prop['gote'] + \"\\n\"\n",
    "text += \"$EVENT:shogi_wars\\n\"\n",
    "text += \"$START_TIME:\" + prop['name'][-15:] + \"\\n\"\n",
    "\n",
    "init_arr = prop['init_sfen_position'].split('/', prop['init_sfen_position'].count('/'))\n",
    "\n",
    "#board init info\n",
    "text += \"PI\"\n",
    "\n",
    "#moves\n",
    "text += \"+\\n\"\n",
    "\n",
    "for move in prop['moves']:\n",
    "\ttext+= move['m'] + \",T0\\n\"\n",
    "\n",
    "#check if toryo\n",
    "if(prop['result'][-5:]==\"TORYO\"):\n",
    "\ttext+=\"%TORYO\\n\"\n",
    "\n",
    "#done\n",
    "\n",
    "print(text)\n",

   ]
  },
  {
   "cell_type": "code",
   "execution_count": null,
   "metadata": {},
   "outputs": [],
   "source": []
  },
  {
   "cell_type": "code",
   "execution_count": null,
   "metadata": {},
   "outputs": [],
   "source": []
  }
 ],
 "metadata": {
  "kernelspec": {
   "display_name": "Python 3",
   "language": "python",
   "name": "python3"
  },
  "language_info": {
   "codemirror_mode": {
    "name": "ipython",
    "version": 3
   },
   "file_extension": ".py",
   "mimetype": "text/x-python",
   "name": "python",
   "nbconvert_exporter": "python",
   "pygments_lexer": "ipython3",
   "version": "3.7.6"
  }
 },
 "nbformat": 4,
 "nbformat_minor": 4
}
